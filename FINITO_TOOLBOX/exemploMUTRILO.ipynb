{
 "cells": [
  {
   "cell_type": "code",
   "execution_count": 1,
   "metadata": {},
   "outputs": [],
   "source": [
    "from FINITO import MEF2D"
   ]
  },
  {
   "cell_type": "code",
   "execution_count": 2,
   "metadata": {},
   "outputs": [
    {
     "name": "stdout",
     "output_type": "stream",
     "text": [
      "4 1 1 2 0 0 2 0 3 0 1 1 1 [[  0. 100.   0.]\n",
      " [  1. 100. 100.]\n",
      " [  2.   0. 100.]\n",
      " [  3.   0.   0.]] [[9.375e+04 2.500e-01 0.000e+00]] [[2.]] [[0. 1. 3. 0. 0.]\n",
      " [1. 2. 3. 0. 0.]] [[ 1.e+00  1.e+00 -4.e+04]\n",
      " [ 2.e+00  1.e+00 -4.e+04]] [[0. 1. 0.]\n",
      " [2. 0. 0.]\n",
      " [2. 1. 0.]\n",
      " [3. 0. 0.]\n",
      " [3. 1. 0.]]\n"
     ]
    }
   ],
   "source": [
    "RESULTS = MEF2D(FILENAME = 'entrada_testeEP2.txt')"
   ]
  },
  {
   "cell_type": "code",
   "execution_count": 3,
   "metadata": {},
   "outputs": [
    {
     "data": {
      "text/plain": [
       "array([-0.4,  0. ,  0. , -0.4,  0. ,  0. ,  0. ,  0. ])"
      ]
     },
     "execution_count": 3,
     "metadata": {},
     "output_type": "execute_result"
    }
   ],
   "source": [
    "RESULTS"
   ]
  },
  {
   "cell_type": "code",
   "execution_count": 4,
   "metadata": {},
   "outputs": [
    {
     "data": {
      "text/plain": [
       "['In',\n",
       " 'MEF2D',\n",
       " 'Out',\n",
       " 'RESULTS',\n",
       " '_',\n",
       " '_3',\n",
       " '__',\n",
       " '___',\n",
       " '__builtin__',\n",
       " '__builtins__',\n",
       " '__doc__',\n",
       " '__loader__',\n",
       " '__name__',\n",
       " '__package__',\n",
       " '__spec__',\n",
       " '_dh',\n",
       " '_i',\n",
       " '_i1',\n",
       " '_i2',\n",
       " '_i3',\n",
       " '_i4',\n",
       " '_ih',\n",
       " '_ii',\n",
       " '_iii',\n",
       " '_oh',\n",
       " 'exit',\n",
       " 'get_ipython',\n",
       " 'quit']"
      ]
     },
     "execution_count": 4,
     "metadata": {},
     "output_type": "execute_result"
    }
   ],
   "source": [
    "dir()"
   ]
  },
  {
   "cell_type": "code",
   "execution_count": 6,
   "metadata": {},
   "outputs": [
    {
     "name": "stdout",
     "output_type": "stream",
     "text": [
      "Collecting pywhatkit\n",
      "  Downloading pywhatkit-5.0-py3-none-any.whl (12 kB)\n",
      "Requirement already satisfied: Pillow in c:\\programdata\\anaconda3\\lib\\site-packages (from pywhatkit) (7.2.0)\n",
      "Collecting pyautogui\n",
      "  Downloading PyAutoGUI-0.9.53.tar.gz (59 kB)\n",
      "Requirement already satisfied: requests in c:\\programdata\\anaconda3\\lib\\site-packages (from pywhatkit) (2.24.0)\n",
      "Collecting wikipedia\n",
      "  Downloading wikipedia-1.4.0.tar.gz (27 kB)\n",
      "Collecting pymsgbox\n",
      "  Downloading PyMsgBox-1.0.9.tar.gz (18 kB)\n",
      "  Installing build dependencies: started\n",
      "  Installing build dependencies: finished with status 'done'\n",
      "  Getting requirements to build wheel: started\n",
      "  Getting requirements to build wheel: finished with status 'done'\n",
      "    Preparing wheel metadata: started\n",
      "    Preparing wheel metadata: finished with status 'done'\n",
      "Collecting PyTweening>=1.0.1\n",
      "  Downloading PyTweening-1.0.3.zip (15 kB)\n",
      "Collecting pyscreeze>=0.1.21\n",
      "  Downloading PyScreeze-0.1.27.tar.gz (25 kB)\n",
      "  Installing build dependencies: started\n",
      "  Installing build dependencies: finished with status 'done'\n",
      "  Getting requirements to build wheel: started\n",
      "  Getting requirements to build wheel: finished with status 'done'\n",
      "    Preparing wheel metadata: started\n",
      "    Preparing wheel metadata: finished with status 'done'\n",
      "Collecting pygetwindow>=0.0.5\n",
      "  Downloading PyGetWindow-0.0.9.tar.gz (9.7 kB)\n",
      "Collecting mouseinfo\n",
      "  Downloading MouseInfo-0.1.3.tar.gz (10 kB)\n",
      "Requirement already satisfied: idna<3,>=2.5 in c:\\programdata\\anaconda3\\lib\\site-packages (from requests->pywhatkit) (2.10)\n",
      "Requirement already satisfied: urllib3!=1.25.0,!=1.25.1,<1.26,>=1.21.1 in c:\\programdata\\anaconda3\\lib\\site-packages (from requests->pywhatkit) (1.25.9)\n",
      "Requirement already satisfied: certifi>=2017.4.17 in c:\\programdata\\anaconda3\\lib\\site-packages (from requests->pywhatkit) (2020.6.20)\n",
      "Requirement already satisfied: chardet<4,>=3.0.2 in c:\\programdata\\anaconda3\\lib\\site-packages (from requests->pywhatkit) (3.0.4)\n",
      "Requirement already satisfied: beautifulsoup4 in c:\\programdata\\anaconda3\\lib\\site-packages (from wikipedia->pywhatkit) (4.9.1)\n",
      "Collecting pyrect\n",
      "  Downloading PyRect-0.1.4.tar.gz (15 kB)\n",
      "Collecting pyperclip\n",
      "  Downloading pyperclip-1.8.2.tar.gz (20 kB)\n",
      "Requirement already satisfied: soupsieve>1.2 in c:\\programdata\\anaconda3\\lib\\site-packages (from beautifulsoup4->wikipedia->pywhatkit) (2.0.1)\n",
      "Building wheels for collected packages: pyautogui, wikipedia, pymsgbox, PyTweening, pyscreeze, pygetwindow, mouseinfo, pyrect, pyperclip\n",
      "  Building wheel for pyautogui (setup.py): started\n",
      "  Building wheel for pyautogui (setup.py): finished with status 'done'\n",
      "  Created wheel for pyautogui: filename=PyAutoGUI-0.9.53-py3-none-any.whl size=36588 sha256=8cc1c25e5d51408c06bab5aa2a3e20b69ac4ea95e038a6552abbe409cc965f02\n",
      "  Stored in directory: c:\\users\\usuario\\appdata\\local\\pip\\cache\\wheels\\54\\04\\f7\\55704a9d374ed923785a4fdc0ef00151fa25306b3b93345532\n",
      "  Building wheel for wikipedia (setup.py): started\n",
      "  Building wheel for wikipedia (setup.py): finished with status 'done'\n",
      "  Created wheel for wikipedia: filename=wikipedia-1.4.0-py3-none-any.whl size=11689 sha256=32ea693204776cb56e4194b28a1106ada131671c24a95afeb11ff402a1764f3e\n",
      "  Stored in directory: c:\\users\\usuario\\appdata\\local\\pip\\cache\\wheels\\07\\93\\05\\72c05349177dca2e0ba31a33ba4f7907606f7ddef303517c6a\n",
      "  Building wheel for pymsgbox (PEP 517): started\n",
      "  Building wheel for pymsgbox (PEP 517): finished with status 'done'\n",
      "  Created wheel for pymsgbox: filename=PyMsgBox-1.0.9-py3-none-any.whl size=7420 sha256=dd24d0ac0752136060a1008af86d8037d7a5202609d99f7616fa6d1e43fbbff4\n",
      "  Stored in directory: c:\\users\\usuario\\appdata\\local\\pip\\cache\\wheels\\91\\28\\0d\\f4eb606d38276836237d6dc2abf094241e6db5682a126e0389\n",
      "  Building wheel for PyTweening (setup.py): started\n",
      "  Building wheel for PyTweening (setup.py): finished with status 'done'\n",
      "  Created wheel for PyTweening: filename=PyTweening-1.0.3-py3-none-any.whl size=3820 sha256=e1b0037e3a27431b6f18fdff1bde9f816f14a1ceabff1d3b184617f4ebda9221\n",
      "  Stored in directory: c:\\users\\usuario\\appdata\\local\\pip\\cache\\wheels\\e7\\50\\20\\790fbd95739abfdf0348bef99d5cc0c7c2930a19a91f602ddc\n",
      "  Building wheel for pyscreeze (PEP 517): started\n",
      "  Building wheel for pyscreeze (PEP 517): finished with status 'done'\n",
      "  Created wheel for pyscreeze: filename=PyScreeze-0.1.27-py3-none-any.whl size=12891 sha256=2285d690c4d3f3dd0c5219e76576f64c8648d39484bb480eae8cf86df69e235f\n",
      "  Stored in directory: c:\\users\\usuario\\appdata\\local\\pip\\cache\\wheels\\f7\\91\\eb\\c0fa176c095c77460a579ef339f24a377474b041e5543d1a00\n",
      "  Building wheel for pygetwindow (setup.py): started\n",
      "  Building wheel for pygetwindow (setup.py): finished with status 'done'\n",
      "  Created wheel for pygetwindow: filename=PyGetWindow-0.0.9-py3-none-any.whl size=11083 sha256=b4e6d7bc933830d88368a99df422fa7f53f2fd0814b5d70875652d739fd5ce17\n",
      "  Stored in directory: c:\\users\\usuario\\appdata\\local\\pip\\cache\\wheels\\91\\e3\\04\\184bda98ec7f7d5f0ba1f372bcf7b3ba86325151ae1dd690fe\n",
      "  Building wheel for mouseinfo (setup.py): started\n",
      "  Building wheel for mouseinfo (setup.py): finished with status 'done'\n",
      "  Created wheel for mouseinfo: filename=MouseInfo-0.1.3-py3-none-any.whl size=10910 sha256=fb27935d9009913beff36648960f5a623be80405bdb2cdb2906253054232f79d\n",
      "  Stored in directory: c:\\users\\usuario\\appdata\\local\\pip\\cache\\wheels\\d1\\72\\fb\\35f403de66285df8ecca7049bcc61bfb57aba0f76d1f08f7eb\n",
      "  Building wheel for pyrect (setup.py): started\n",
      "  Building wheel for pyrect (setup.py): finished with status 'done'\n",
      "  Created wheel for pyrect: filename=PyRect-0.1.4-py2.py3-none-any.whl size=9552 sha256=cc89c78651bfa91ee67befb1b0cf4c3fae28a2cc5b6e4568acf2b9209bea5846\n",
      "  Stored in directory: c:\\users\\usuario\\appdata\\local\\pip\\cache\\wheels\\d1\\e4\\47\\c62f8291b16b6df7e89ac885881ff71f35ca04c6e384251de9\n",
      "  Building wheel for pyperclip (setup.py): started\n",
      "  Building wheel for pyperclip (setup.py): finished with status 'done'\n",
      "  Created wheel for pyperclip: filename=pyperclip-1.8.2-py3-none-any.whl size=11113 sha256=37a0395750ff008595eb30c18a3f8100abc58a34cfa2a7d336e91b7111e5295b\n",
      "  Stored in directory: c:\\users\\usuario\\appdata\\local\\pip\\cache\\wheels\\7f\\1a\\65\\84ff8c386bec21fca6d220ea1f5498a0367883a78dd5ba6122\n",
      "Successfully built pyautogui wikipedia pymsgbox PyTweening pyscreeze pygetwindow mouseinfo pyrect pyperclip\n",
      "Installing collected packages: pymsgbox, PyTweening, pyscreeze, pyrect, pygetwindow, pyperclip, mouseinfo, pyautogui, wikipedia, pywhatkit\n",
      "Successfully installed PyTweening-1.0.3 mouseinfo-0.1.3 pyautogui-0.9.53 pygetwindow-0.0.9 pymsgbox-1.0.9 pyperclip-1.8.2 pyrect-0.1.4 pyscreeze-0.1.27 pywhatkit-5.0 wikipedia-1.4.0\n"
     ]
    }
   ],
   "source": [
    "!pip install pywhatkit\n",
    "from pywhatkit import image_to_ascii_art"
   ]
  },
  {
   "cell_type": "code",
   "execution_count": 10,
   "metadata": {},
   "outputs": [
    {
     "name": "stdout",
     "output_type": "stream",
     "text": [
      "................................................................................\n",
      "................................................................................\n",
      "................................................................................\n",
      "................................................................................\n",
      "...........*%%%%%%%%%%%%%%%%%%%%%%%%*...........................................\n",
      "..........:$@@@@@@@@@@@@@@@@@@@@@@@@$:..........................................\n",
      "..........:$@@@@@@@@@@@@@@@@@@@@@@@@$:..........................................\n",
      "..........:$@@@@@@@@@@@@@@@@@@@@@@@@$:..........................................\n",
      "..........:$@@@@@@@@@@@@@@@@@@@@@@@@$:..........................................\n",
      "..........:$@@@@@@@@@@@@@@@@@@@@@@@@$:..........................................\n",
      "..........:$@@@@@@@@@@@@@@@@@@@@@@@@$:..........................................\n",
      "..........:$@@@@@@@@@@@@@@@@@@@@@@@@$:..........................................\n",
      "..........:$@@@@@@@@@@@@@@@@@@@@@@@@$:..........................................\n",
      "..........:$@@@@@@@@@@@@@@@@@@@@@@@@$:..........................................\n",
      "..........:$@@@@@@@@@@@@@@@@@@@@@@@@$:..!%%$**$!%%.*%!%%%%%$**$$!...............\n",
      "..........:$@@@@@@@@@@@@@@@@@@@@@@@@$:..**@$*&&:#*$#$!**%&#%S&!$*:..............\n",
      "..........:$@@@@@@@@@@@@@@@@@@@@@@@@$:.:&#!.!*****SS:@S.!S$.&&%&@...............\n",
      "..........:$@@@@@@@@@@@@@@@@@@@@@@@@$:.:*!..!*:!*.!!:**.!*!.:*%!................\n",
      "...........*%%%%%%%%%%%%%%%%%%%%%%%%*:..........................................\n",
      ".......................................:::::::::::::::::::::::::::..............\n",
      "...........!************************!..*@$$$$$$$$$$$$$$$$$$$$$$$@!..............\n",
      "...........**************************..*@@@@@@@@@@@@@@@@@@@@@@@@@!..............\n",
      "...........**************************..*@@@@@@@@@@@@@@@@@@@@@@@@@!..............\n",
      "...........**************************..*@@@@@@@@@@@@@@@@@@@@@@@@@!..............\n",
      "...........**************************..*@@@@@@@@@@@@@@@@@@@@@@@@@!..............\n",
      "...........**************************..*@@@@@@@@@@@@@@@@@@@@@@@@@!..............\n",
      "...........**************************..*@@@@@@@@@@@@@@@@@@@@@@@@@!..............\n",
      "...........**************************..*@@@@@@@@@@@@@@@@@@@@@@@@@!..............\n",
      "...........**************************..*@@@@@@@@@@@@@@@@@@@@@@@@@!..............\n",
      "...........**************************..*@@@@@@@@@@@@@@@@@@@@@@@@@!..............\n",
      "...........**************************..*@@@@@@@@@@@@@@@@@@@@@@@@@!..............\n",
      "...........**************************..*@@@@@@@@@@@@@@@@@@@@@@@@@!..............\n",
      "...........**************************..*@@@@@@@@@@@@@@@@@@@@@@@@@!..............\n",
      "...........!************************!..*@@@@@@@@@@@@@@@@@@@@@@@@@!..............\n",
      "...........::::::::::::::::::::::::::..:::::::::::::::::::::::::::..............\n",
      "................................................................................\n",
      "................................................................................\n",
      "..............................:****!:*!!!!!!*!!*:...............................\n",
      "..............................::::::.:::::::::::................................\n",
      "................................................................................\n",
      "................................................................................\n",
      "................................................................................\n",
      "................................................................................\n",
      "................................................................................\n"
     ]
    }
   ],
   "source": [
    "entrada = 'teste2.png'\n",
    "saida = 'wander.txt'\n",
    "print(image_to_ascii_art(imgpath=entrada, output_file=saida))"
   ]
  },
  {
   "cell_type": "code",
   "execution_count": null,
   "metadata": {},
   "outputs": [],
   "source": []
  }
 ],
 "metadata": {
  "kernelspec": {
   "display_name": "Python 3",
   "language": "python",
   "name": "python3"
  },
  "language_info": {
   "codemirror_mode": {
    "name": "ipython",
    "version": 3
   },
   "file_extension": ".py",
   "mimetype": "text/x-python",
   "name": "python",
   "nbconvert_exporter": "python",
   "pygments_lexer": "ipython3",
   "version": "3.8.3"
  }
 },
 "nbformat": 4,
 "nbformat_minor": 4
}
