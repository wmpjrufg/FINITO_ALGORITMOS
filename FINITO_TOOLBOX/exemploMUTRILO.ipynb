{
 "cells": [
  {
   "cell_type": "code",
   "execution_count": 1,
   "metadata": {},
   "outputs": [],
   "source": [
    "from FINITO import MEF2D"
   ]
  },
  {
   "cell_type": "code",
   "execution_count": 2,
   "metadata": {},
   "outputs": [],
   "source": [
    "RESULTS = MEF2D(FILENAME = 'entrada_ansys2.txt')"
   ]
  },
  {
   "cell_type": "code",
   "execution_count": 3,
   "metadata": {},
   "outputs": [
    {
     "data": {
      "text/plain": [
       "array([[ 0.00000000e+00],\n",
       "       [ 0.00000000e+00],\n",
       "       [ 2.09606877e-06],\n",
       "       [ 2.43018915e-07],\n",
       "       [ 3.21604305e-07],\n",
       "       [ 1.23318892e-07],\n",
       "       [ 6.24406151e-07],\n",
       "       [ 1.41268178e-07],\n",
       "       [ 9.38615270e-07],\n",
       "       [ 1.38538532e-07],\n",
       "       [ 1.26540698e-06],\n",
       "       [ 1.24359452e-07],\n",
       "       [ 1.62265046e-06],\n",
       "       [ 1.18442817e-07],\n",
       "       [ 2.09909182e-06],\n",
       "       [-2.48068086e-07],\n",
       "       [ 1.78317628e-06],\n",
       "       [ 9.63953533e-08],\n",
       "       [ 1.78108428e-06],\n",
       "       [-9.71921570e-08],\n",
       "       [ 0.00000000e+00],\n",
       "       [ 0.00000000e+00],\n",
       "       [ 1.62434548e-06],\n",
       "       [-1.19781083e-07],\n",
       "       [ 1.26218590e-06],\n",
       "       [-1.23736623e-07],\n",
       "       [ 9.39884279e-07],\n",
       "       [-1.38752799e-07],\n",
       "       [ 6.26601528e-07],\n",
       "       [-1.42076667e-07],\n",
       "       [ 3.21475846e-07],\n",
       "       [-1.23650988e-07],\n",
       "       [ 0.00000000e+00],\n",
       "       [ 0.00000000e+00],\n",
       "       [ 0.00000000e+00],\n",
       "       [ 0.00000000e+00],\n",
       "       [ 1.87302520e-07],\n",
       "       [ 4.07086602e-10],\n",
       "       [ 4.58780001e-07],\n",
       "       [-4.34291362e-08],\n",
       "       [ 8.27427813e-07],\n",
       "       [-4.52673390e-08],\n",
       "       [ 1.15005752e-06],\n",
       "       [-3.94474571e-08],\n",
       "       [ 1.43818719e-06],\n",
       "       [-3.76369088e-08],\n",
       "       [ 1.59323745e-06],\n",
       "       [-1.26764623e-09],\n",
       "       [ 1.38936388e-06],\n",
       "       [ 2.97378936e-08],\n",
       "       [ 1.04589378e-06],\n",
       "       [ 4.35181264e-08],\n",
       "       [ 7.22992833e-07],\n",
       "       [ 5.01781467e-08],\n",
       "       [ 4.01766386e-07],\n",
       "       [ 5.78829033e-08],\n",
       "       [ 1.71967607e-07],\n",
       "       [ 3.76917777e-08],\n",
       "       [ 1.66833086e-06],\n",
       "       [ 5.81226710e-08],\n",
       "       [ 1.66991756e-06],\n",
       "       [-6.20670580e-08],\n",
       "       [ 1.82813394e-07],\n",
       "       [-3.92438462e-08]])"
      ]
     },
     "execution_count": 3,
     "metadata": {},
     "output_type": "execute_result"
    }
   ],
   "source": [
    "RESULTS"
   ]
  },
  {
   "cell_type": "code",
   "execution_count": 4,
   "metadata": {},
   "outputs": [
    {
     "data": {
      "text/plain": [
       "['In',\n",
       " 'MEF2D',\n",
       " 'Out',\n",
       " 'RESULTS',\n",
       " '_',\n",
       " '_3',\n",
       " '__',\n",
       " '___',\n",
       " '__builtin__',\n",
       " '__builtins__',\n",
       " '__doc__',\n",
       " '__loader__',\n",
       " '__name__',\n",
       " '__package__',\n",
       " '__spec__',\n",
       " '_dh',\n",
       " '_i',\n",
       " '_i1',\n",
       " '_i2',\n",
       " '_i3',\n",
       " '_i4',\n",
       " '_ih',\n",
       " '_ii',\n",
       " '_iii',\n",
       " '_oh',\n",
       " 'exit',\n",
       " 'get_ipython',\n",
       " 'quit']"
      ]
     },
     "execution_count": 4,
     "metadata": {},
     "output_type": "execute_result"
    }
   ],
   "source": [
    "dir()"
   ]
  },
  {
   "cell_type": "code",
   "execution_count": 5,
   "metadata": {},
   "outputs": [
    {
     "name": "stdout",
     "output_type": "stream",
     "text": [
      "Requirement already satisfied: pywhatkit in c:\\programdata\\anaconda3\\lib\\site-packages (5.0)\n",
      "Requirement already satisfied: pyautogui in c:\\programdata\\anaconda3\\lib\\site-packages (from pywhatkit) (0.9.53)\n",
      "Requirement already satisfied: wikipedia in c:\\programdata\\anaconda3\\lib\\site-packages (from pywhatkit) (1.4.0)\n",
      "Requirement already satisfied: Pillow in c:\\programdata\\anaconda3\\lib\\site-packages (from pywhatkit) (7.2.0)\n",
      "Requirement already satisfied: requests in c:\\programdata\\anaconda3\\lib\\site-packages (from pywhatkit) (2.24.0)\n",
      "Requirement already satisfied: pymsgbox in c:\\programdata\\anaconda3\\lib\\site-packages (from pyautogui->pywhatkit) (1.0.9)\n",
      "Requirement already satisfied: PyTweening>=1.0.1 in c:\\programdata\\anaconda3\\lib\\site-packages (from pyautogui->pywhatkit) (1.0.3)\n",
      "Requirement already satisfied: mouseinfo in c:\\programdata\\anaconda3\\lib\\site-packages (from pyautogui->pywhatkit) (0.1.3)\n",
      "Requirement already satisfied: pygetwindow>=0.0.5 in c:\\programdata\\anaconda3\\lib\\site-packages (from pyautogui->pywhatkit) (0.0.9)\n",
      "Requirement already satisfied: pyscreeze>=0.1.21 in c:\\programdata\\anaconda3\\lib\\site-packages (from pyautogui->pywhatkit) (0.1.27)\n",
      "Requirement already satisfied: beautifulsoup4 in c:\\programdata\\anaconda3\\lib\\site-packages (from wikipedia->pywhatkit) (4.9.1)\n",
      "Requirement already satisfied: urllib3!=1.25.0,!=1.25.1,<1.26,>=1.21.1 in c:\\programdata\\anaconda3\\lib\\site-packages (from requests->pywhatkit) (1.25.9)\n",
      "Requirement already satisfied: chardet<4,>=3.0.2 in c:\\programdata\\anaconda3\\lib\\site-packages (from requests->pywhatkit) (3.0.4)\n",
      "Requirement already satisfied: certifi>=2017.4.17 in c:\\programdata\\anaconda3\\lib\\site-packages (from requests->pywhatkit) (2020.6.20)\n",
      "Requirement already satisfied: idna<3,>=2.5 in c:\\programdata\\anaconda3\\lib\\site-packages (from requests->pywhatkit) (2.10)\n",
      "Requirement already satisfied: pyperclip in c:\\programdata\\anaconda3\\lib\\site-packages (from mouseinfo->pyautogui->pywhatkit) (1.8.2)\n",
      "Requirement already satisfied: pyrect in c:\\programdata\\anaconda3\\lib\\site-packages (from pygetwindow>=0.0.5->pyautogui->pywhatkit) (0.1.4)\n",
      "Requirement already satisfied: soupsieve>1.2 in c:\\programdata\\anaconda3\\lib\\site-packages (from beautifulsoup4->wikipedia->pywhatkit) (2.0.1)\n"
     ]
    }
   ],
   "source": [
    "!pip install pywhatkit\n",
    "from pywhatkit import image_to_ascii_art"
   ]
  },
  {
   "cell_type": "code",
   "execution_count": 6,
   "metadata": {},
   "outputs": [
    {
     "name": "stdout",
     "output_type": "stream",
     "text": [
      "................................................................................\n",
      "................................................................................\n",
      "................................................................................\n",
      "................................................................................\n",
      "...........*%%%%%%%%%%%%%%%%%%%%%%%%*...........................................\n",
      "..........:$@@@@@@@@@@@@@@@@@@@@@@@@$:..........................................\n",
      "..........:$@@@@@@@@@@@@@@@@@@@@@@@@$:..........................................\n",
      "..........:$@@@@@@@@@@@@@@@@@@@@@@@@$:..........................................\n",
      "..........:$@@@@@@@@@@@@@@@@@@@@@@@@$:..........................................\n",
      "..........:$@@@@@@@@@@@@@@@@@@@@@@@@$:..........................................\n",
      "..........:$@@@@@@@@@@@@@@@@@@@@@@@@$:..........................................\n",
      "..........:$@@@@@@@@@@@@@@@@@@@@@@@@$:..........................................\n",
      "..........:$@@@@@@@@@@@@@@@@@@@@@@@@$:..........................................\n",
      "..........:$@@@@@@@@@@@@@@@@@@@@@@@@$:..........................................\n",
      "..........:$@@@@@@@@@@@@@@@@@@@@@@@@$:..!%%$**$!%%.*%!%%%%%$**$$!...............\n",
      "..........:$@@@@@@@@@@@@@@@@@@@@@@@@$:..**@$*&&:#*$#$!**%&#%S&!$*:..............\n",
      "..........:$@@@@@@@@@@@@@@@@@@@@@@@@$:.:&#!.!*****SS:@S.!S$.&&%&@...............\n",
      "..........:$@@@@@@@@@@@@@@@@@@@@@@@@$:.:*!..!*:!*.!!:**.!*!.:*%!................\n",
      "...........*%%%%%%%%%%%%%%%%%%%%%%%%*:..........................................\n",
      ".......................................:::::::::::::::::::::::::::..............\n",
      "...........!************************!..*@$$$$$$$$$$$$$$$$$$$$$$$@!..............\n",
      "...........**************************..*@@@@@@@@@@@@@@@@@@@@@@@@@!..............\n",
      "...........**************************..*@@@@@@@@@@@@@@@@@@@@@@@@@!..............\n",
      "...........**************************..*@@@@@@@@@@@@@@@@@@@@@@@@@!..............\n",
      "...........**************************..*@@@@@@@@@@@@@@@@@@@@@@@@@!..............\n",
      "...........**************************..*@@@@@@@@@@@@@@@@@@@@@@@@@!..............\n",
      "...........**************************..*@@@@@@@@@@@@@@@@@@@@@@@@@!..............\n",
      "...........**************************..*@@@@@@@@@@@@@@@@@@@@@@@@@!..............\n",
      "...........**************************..*@@@@@@@@@@@@@@@@@@@@@@@@@!..............\n",
      "...........**************************..*@@@@@@@@@@@@@@@@@@@@@@@@@!..............\n",
      "...........**************************..*@@@@@@@@@@@@@@@@@@@@@@@@@!..............\n",
      "...........**************************..*@@@@@@@@@@@@@@@@@@@@@@@@@!..............\n",
      "...........**************************..*@@@@@@@@@@@@@@@@@@@@@@@@@!..............\n",
      "...........!************************!..*@@@@@@@@@@@@@@@@@@@@@@@@@!..............\n",
      "...........::::::::::::::::::::::::::..:::::::::::::::::::::::::::..............\n",
      "................................................................................\n",
      "................................................................................\n",
      "..............................:****!:*!!!!!!*!!*:...............................\n",
      "..............................::::::.:::::::::::................................\n",
      "................................................................................\n",
      "................................................................................\n",
      "................................................................................\n",
      "................................................................................\n",
      "................................................................................\n"
     ]
    }
   ],
   "source": [
    "entrada = 'teste2.png'\n",
    "saida = 'wander.txt'\n",
    "print(image_to_ascii_art(imgpath=entrada, output_file=saida))"
   ]
  },
  {
   "cell_type": "code",
   "execution_count": null,
   "metadata": {},
   "outputs": [],
   "source": []
  }
 ],
 "metadata": {
  "kernelspec": {
   "display_name": "Python 3",
   "language": "python",
   "name": "python3"
  },
  "language_info": {
   "codemirror_mode": {
    "name": "ipython",
    "version": 3
   },
   "file_extension": ".py",
   "mimetype": "text/x-python",
   "name": "python",
   "nbconvert_exporter": "python",
   "pygments_lexer": "ipython3",
   "version": "3.8.3"
  }
 },
 "nbformat": 4,
 "nbformat_minor": 4
}
