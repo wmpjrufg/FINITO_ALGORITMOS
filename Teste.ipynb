{
 "cells": [
  {
   "cell_type": "code",
   "execution_count": 1,
   "metadata": {},
   "outputs": [
    {
     "ename": "ModuleNotFoundError",
     "evalue": "No module named 'FINITO'",
     "output_type": "error",
     "traceback": [
      "\u001b[1;31m---------------------------------------------------------------------------\u001b[0m",
      "\u001b[1;31mModuleNotFoundError\u001b[0m                       Traceback (most recent call last)",
      "\u001b[1;32m<ipython-input-1-bc3fdf5efe56>\u001b[0m in \u001b[0;36m<module>\u001b[1;34m\u001b[0m\n\u001b[0;32m      1\u001b[0m \u001b[1;32mimport\u001b[0m \u001b[0mnumpy\u001b[0m \u001b[1;32mas\u001b[0m \u001b[0mnp\u001b[0m\u001b[1;33m\u001b[0m\u001b[1;33m\u001b[0m\u001b[0m\n\u001b[0;32m      2\u001b[0m \u001b[1;32mimport\u001b[0m \u001b[0mpandas\u001b[0m \u001b[1;32mas\u001b[0m \u001b[0mpd\u001b[0m\u001b[1;33m\u001b[0m\u001b[1;33m\u001b[0m\u001b[0m\n\u001b[1;32m----> 3\u001b[1;33m \u001b[1;32mimport\u001b[0m \u001b[0mFINITO\u001b[0m\u001b[1;33m\u001b[0m\u001b[1;33m\u001b[0m\u001b[0m\n\u001b[0m\u001b[0;32m      4\u001b[0m \u001b[1;32mfrom\u001b[0m \u001b[0mFINITO\u001b[0m \u001b[1;32mimport\u001b[0m \u001b[0mMEF1D\u001b[0m\u001b[1;33m\u001b[0m\u001b[1;33m\u001b[0m\u001b[0m\n",
      "\u001b[1;31mModuleNotFoundError\u001b[0m: No module named 'FINITO'"
     ]
    }
   ],
   "source": [
    "import numpy as np\n",
    "import pandas as pd\n",
    "import FINITO\n",
    "from FINITO import MEF1D"
   ]
  },
  {
   "cell_type": "code",
   "execution_count": null,
   "metadata": {},
   "outputs": [],
   "source": [
    "EXAMPLE = {\n",
    "    \"TYPE_ELEMENT\": 0,\n",
    "    \"TYPE_SOLUTION\": 0,\n",
    "    \"N_NODES\": 23,\n",
    "    \"N_ELEMENTS\": 24,  \n",
    "    \"N_MATERIALS\": 2,\n",
    "    \"N_SECTIONS\": 2,\n",
    "    \"N_DISPLACEMENTS\": 6,\n",
    "    \"N_ELEMENTSLOADED\": 0,\n",
    "    \"N_NODESLOADED\": 21,\n",
    "    \"N_SPRINGS\": 0,\n",
    "    \"COORDINATES\": np.array([[0.00,0.00],\n",
    "                            [4.50,0.00],\n",
    "                            [0.00,3.00],\n",
    "                            [0.75,3.00],\n",
    "                            [1.50,3.00],\n",
    "                            [2.25,3.00],\n",
    "                            [3.00,3.00],\n",
    "                            [3.75,3.00],\n",
    "                            [4.50,3.00],\n",
    "                            [0.00,6.00],\n",
    "                            [0.75,6.00],\n",
    "                            [1.50,6.00],\n",
    "                            [2.25,6.00],\n",
    "                            [3.00,6.00],\n",
    "                            [3.75,6.00],\n",
    "                            [4.50,6.00],\n",
    "                            [0.00,9.00],\n",
    "                            [0.75,9.00],\n",
    "                            [1.50,9.00],\n",
    "                            [2.25,9.00],\n",
    "                            [3.00,9.00],\n",
    "                            [3.75,9.00],\n",
    "                            [4.50,9.00]]),\n",
    "    \"ELEMENTS\": np.array([[0,2,1,1,0,0],\n",
    "                            [2,3,1,1,0,0],\n",
    "                            [3,4,1,1,0,0],\n",
    "                            [4,5,1,1,0,0],\n",
    "                            [5,6,1,1,0,0],\n",
    "                            [6,7,1,1,0,0],\n",
    "                            [7,8,1,1,0,0],\n",
    "                            [8,1,1,1,0,0],\n",
    "                            [2,9,1,1,0,0],\n",
    "                            [9,10,1,1,0,0],\n",
    "                            [10,11,1,1,0,0],\n",
    "                            [11,12,1,1,0,0],\n",
    "                            [12,13,1,1,0,0],\n",
    "                            [13,14,1,1,0,0],\n",
    "                            [14,15,1,1,0,0],\n",
    "                            [15,8,1,1,0,0],\n",
    "                            [9,16,1,1,0,0],\n",
    "                            [16,17,1,1,0,0],\n",
    "                            [17,18,1,1,0,0],\n",
    "                            [18,19,1,1,0,0],\n",
    "                            [19,20,1,1,0,0],\n",
    "                            [20,21,1,1,0,0],\n",
    "                            [21,22,1,1,0,0],\n",
    "                            [22,15,1,1,0,0]]),\n",
    "    \"MATERIALS\": np.array([[3.1E7,0.20,25,0.000010],\n",
    "                            [3.1E7,0.20,25,0.000010]]),\n",
    "    \"SECTIONS\": np.array([[6.300e-02,1.063e-03,1.063e-03,0.1,0.1], \n",
    "                            [6.300e-02,1.063e-03,1.063e-03,0.1,0.1]]),\n",
    "    \"PRESCRIBED DISPLACEMENTS\": np.array([[0,0,0],\n",
    "                                            [0,1,0],\n",
    "                                            [0,2,0],\n",
    "                                            [1,0,0],\n",
    "                                            [1,1,0],\n",
    "                                            [1,2,0]]),\n",
    "    \"ELEMENT LOADS\": None,\n",
    "    \"NODAL LOADS\": np.array([[2,1,-10],\n",
    "                                [3,1,-10],\n",
    "                                [4,1,-10],\n",
    "                                [5,1,-10],\n",
    "                                [6,1,-10],\n",
    "                                [7,1,-10],\n",
    "                                [8,1,-10],\n",
    "                                [9,1,-10],\n",
    "                                [10,1,-10],\n",
    "                                [11,1,-10],\n",
    "                                [12,1,-10],\n",
    "                                [13,1,-10],\n",
    "                                [14,1,-10],\n",
    "                                [15,1,-10],\n",
    "                                [16,1,-10],\n",
    "                                [17,1,-10],\n",
    "                                [18,1,-10],\n",
    "                                [19,1,-10],\n",
    "                                [20,1,-10],\n",
    "                                [21,1,-10],\n",
    "                                [22,1,-10]]),\n",
    "  \"SPRINGS\": None,\n",
    "  }"
   ]
  },
  {
   "cell_type": "code",
   "execution_count": null,
   "metadata": {},
   "outputs": [],
   "source": [
    "RESULTS = MEF1D(DICTIONARY = EXAMPLE)"
   ]
  },
  {
   "cell_type": "code",
   "execution_count": null,
   "metadata": {},
   "outputs": [],
   "source": [
    "RESULTS_BAR_0 = pd.DataFrame(data=RESULTS[2])\n",
    "RESULTS_BAR_0.head(11)"
   ]
  },
  {
   "cell_type": "code",
   "execution_count": null,
   "metadata": {},
   "outputs": [],
   "source": [
    "Δ = RESULTS_BAR_0.iloc[2]\n",
    "Δ.head()"
   ]
  },
  {
   "cell_type": "code",
   "execution_count": null,
   "metadata": {},
   "outputs": [],
   "source": [
    "print(Δ['X'])"
   ]
  },
  {
   "cell_type": "code",
   "execution_count": null,
   "metadata": {},
   "outputs": [],
   "source": [
    "print(450 / 8)"
   ]
  },
  {
   "cell_type": "code",
   "execution_count": null,
   "metadata": {},
   "outputs": [],
   "source": [
    "RESULTS_BAR_0 = RESULTS[2]\n",
    "RESULTS_BAR_0"
   ]
  },
  {
   "cell_type": "code",
   "execution_count": 2,
   "metadata": {},
   "outputs": [
    {
     "name": "stdout",
     "output_type": "stream",
     "text": [
      "Collecting FINITOTOOLBOX\n",
      "  Downloading FINITOTOOLBOX-42.45.54.41.tar.gz (7.1 kB)\n",
      "Building wheels for collected packages: FINITOTOOLBOX\n",
      "  Building wheel for FINITOTOOLBOX (setup.py): started\n",
      "  Building wheel for FINITOTOOLBOX (setup.py): finished with status 'done'\n",
      "  Created wheel for FINITOTOOLBOX: filename=FINITOTOOLBOX-42.45.54.41-py3-none-any.whl size=8380 sha256=2928ef9f17d4087046f704dc13533758863c49f61169da1e084f4eb68d5fdc9e\n",
      "  Stored in directory: c:\\users\\usuario\\appdata\\local\\pip\\cache\\wheels\\9b\\3a\\75\\42e956dcd351e593450845c0798415ffc638d61032472f9eea\n",
      "Successfully built FINITOTOOLBOX\n",
      "Installing collected packages: FINITOTOOLBOX\n",
      "Successfully installed FINITOTOOLBOX-42.45.54.41\n"
     ]
    }
   ],
   "source": [
    "!pip install FINITOTOOLBOX"
   ]
  },
  {
   "cell_type": "code",
   "execution_count": null,
   "metadata": {},
   "outputs": [],
   "source": []
  }
 ],
 "metadata": {
  "kernelspec": {
   "display_name": "Python 3",
   "language": "python",
   "name": "python3"
  },
  "language_info": {
   "codemirror_mode": {
    "name": "ipython",
    "version": 3
   },
   "file_extension": ".py",
   "mimetype": "text/x-python",
   "name": "python",
   "nbconvert_exporter": "python",
   "pygments_lexer": "ipython3",
   "version": "3.8.3"
  }
 },
 "nbformat": 4,
 "nbformat_minor": 4
}
