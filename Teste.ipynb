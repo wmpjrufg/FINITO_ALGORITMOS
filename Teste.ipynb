{
 "cells": [
  {
   "cell_type": "code",
   "execution_count": 1,
   "metadata": {},
   "outputs": [],
   "source": [
    "import numpy as np\n",
    "import pandas as pd\n",
    "import FINITO\n",
    "from FINITO import MEF1D"
   ]
  },
  {
   "cell_type": "code",
   "execution_count": 2,
   "metadata": {},
   "outputs": [],
   "source": [
    "TRUSS_01 = {\n",
    "  \"TYPE_ELEMENT\": 0,\n",
    "  \"TYPE_SOLUTION\": 0,\n",
    "  \"N_NODES\": 3,\n",
    "  \"N_MATERIALS\": 3,\n",
    "  \"N_SECTIONS\": 3,\n",
    "  \"N_ELEMENTS\": 3,\n",
    "  \"N_DISPLACEMENTS\": 3,\n",
    "  \"N_ELEMENTSLOADED\": 0,\n",
    "  \"N_NODESLOADED\": 1,\n",
    "  \"N_SPRINGS\": 0,\n",
    "  \"COORDINATES\": \n",
    "  np.array([[0.0, 0.0],\n",
    "    [2.0, 0.0],\n",
    "    [0.0, 2.0]]),\n",
    "  \"ELEMENTS\": \n",
    "  np.array([[0, 1, 0, 0, 1, 1],\n",
    "    [1, 2, 1, 1, 1, 1],\n",
    "    [0, 2, 2, 2, 1, 1]]),\n",
    "  \"MATERIALS\": \n",
    "  np.array([[2.050E8,0.3,78600,0.000012],\n",
    "    [2.050E8,0.3,78600,0.000012],\n",
    "    [2.050E8,0.3,78600,0.000012]]),\n",
    "  \"SECTIONS\": \n",
    "  np.array([[0.0079,0.000005,0.000005,0.05,0.05],\n",
    "    [0.0079,0.000005,0.000005,0.05,0.05],\n",
    "    [0.0079,0.000005,0.000005,0.05,0.05]]),\n",
    "  \"PRESCRIBED DISPLACEMENTS\": \n",
    "  np.array([[0,0,0],\n",
    "    [0,1,0],\n",
    "    [2,0,0]]),\n",
    "  \"ELEMENT LOADS\": None,\n",
    "  \"NODAL LOADS\": \n",
    "  np.array([[1,1,-100]]),\n",
    "  \"SPRINGS\": None}"
   ]
  },
  {
   "cell_type": "code",
   "execution_count": 3,
   "metadata": {},
   "outputs": [],
   "source": [
    "RESULTS = MEF1D(DICTIONARY = TRUSS_01)"
   ]
  },
  {
   "cell_type": "code",
   "execution_count": 8,
   "metadata": {},
   "outputs": [
    {
     "data": {
      "text/html": [
       "<div>\n",
       "<style scoped>\n",
       "    .dataframe tbody tr th:only-of-type {\n",
       "        vertical-align: middle;\n",
       "    }\n",
       "\n",
       "    .dataframe tbody tr th {\n",
       "        vertical-align: top;\n",
       "    }\n",
       "\n",
       "    .dataframe thead th {\n",
       "        text-align: right;\n",
       "    }\n",
       "</style>\n",
       "<table border=\"1\" class=\"dataframe\">\n",
       "  <thead>\n",
       "    <tr style=\"text-align: right;\">\n",
       "      <th></th>\n",
       "      <th>X</th>\n",
       "      <th>UX</th>\n",
       "      <th>UY</th>\n",
       "      <th>UZ</th>\n",
       "      <th>N</th>\n",
       "      <th>V</th>\n",
       "      <th>M</th>\n",
       "      <th>ID_ELEMENT</th>\n",
       "    </tr>\n",
       "  </thead>\n",
       "  <tbody>\n",
       "    <tr>\n",
       "      <th>0</th>\n",
       "      <td>0.0</td>\n",
       "      <td>0.0</td>\n",
       "      <td>0.000000</td>\n",
       "      <td>0.0</td>\n",
       "      <td>-100.0</td>\n",
       "      <td>0.0</td>\n",
       "      <td>0.0</td>\n",
       "      <td>2</td>\n",
       "    </tr>\n",
       "    <tr>\n",
       "      <th>1</th>\n",
       "      <td>0.2</td>\n",
       "      <td>-1989.0</td>\n",
       "      <td>-1989.000000</td>\n",
       "      <td>-1989.0</td>\n",
       "      <td>-100.0</td>\n",
       "      <td>0.0</td>\n",
       "      <td>0.0</td>\n",
       "      <td>2</td>\n",
       "    </tr>\n",
       "    <tr>\n",
       "      <th>2</th>\n",
       "      <td>0.4</td>\n",
       "      <td>-1989.0</td>\n",
       "      <td>-1989.000000</td>\n",
       "      <td>-1989.0</td>\n",
       "      <td>-100.0</td>\n",
       "      <td>0.0</td>\n",
       "      <td>0.0</td>\n",
       "      <td>2</td>\n",
       "    </tr>\n",
       "    <tr>\n",
       "      <th>3</th>\n",
       "      <td>0.6</td>\n",
       "      <td>-1989.0</td>\n",
       "      <td>-1989.000000</td>\n",
       "      <td>-1989.0</td>\n",
       "      <td>-100.0</td>\n",
       "      <td>0.0</td>\n",
       "      <td>0.0</td>\n",
       "      <td>2</td>\n",
       "    </tr>\n",
       "    <tr>\n",
       "      <th>4</th>\n",
       "      <td>0.8</td>\n",
       "      <td>-1989.0</td>\n",
       "      <td>-1989.000000</td>\n",
       "      <td>-1989.0</td>\n",
       "      <td>-100.0</td>\n",
       "      <td>0.0</td>\n",
       "      <td>0.0</td>\n",
       "      <td>2</td>\n",
       "    </tr>\n",
       "    <tr>\n",
       "      <th>5</th>\n",
       "      <td>1.0</td>\n",
       "      <td>-1989.0</td>\n",
       "      <td>-1989.000000</td>\n",
       "      <td>-1989.0</td>\n",
       "      <td>-100.0</td>\n",
       "      <td>0.0</td>\n",
       "      <td>0.0</td>\n",
       "      <td>2</td>\n",
       "    </tr>\n",
       "    <tr>\n",
       "      <th>6</th>\n",
       "      <td>1.2</td>\n",
       "      <td>-1989.0</td>\n",
       "      <td>-1989.000000</td>\n",
       "      <td>-1989.0</td>\n",
       "      <td>-100.0</td>\n",
       "      <td>0.0</td>\n",
       "      <td>0.0</td>\n",
       "      <td>2</td>\n",
       "    </tr>\n",
       "    <tr>\n",
       "      <th>7</th>\n",
       "      <td>1.4</td>\n",
       "      <td>-1989.0</td>\n",
       "      <td>-1989.000000</td>\n",
       "      <td>-1989.0</td>\n",
       "      <td>-100.0</td>\n",
       "      <td>0.0</td>\n",
       "      <td>0.0</td>\n",
       "      <td>2</td>\n",
       "    </tr>\n",
       "    <tr>\n",
       "      <th>8</th>\n",
       "      <td>1.6</td>\n",
       "      <td>-1989.0</td>\n",
       "      <td>-1989.000000</td>\n",
       "      <td>-1989.0</td>\n",
       "      <td>-100.0</td>\n",
       "      <td>0.0</td>\n",
       "      <td>0.0</td>\n",
       "      <td>2</td>\n",
       "    </tr>\n",
       "    <tr>\n",
       "      <th>9</th>\n",
       "      <td>1.8</td>\n",
       "      <td>-1989.0</td>\n",
       "      <td>-1989.000000</td>\n",
       "      <td>-1989.0</td>\n",
       "      <td>-100.0</td>\n",
       "      <td>0.0</td>\n",
       "      <td>0.0</td>\n",
       "      <td>2</td>\n",
       "    </tr>\n",
       "    <tr>\n",
       "      <th>10</th>\n",
       "      <td>2.0</td>\n",
       "      <td>0.0</td>\n",
       "      <td>-0.000123</td>\n",
       "      <td>0.0</td>\n",
       "      <td>-100.0</td>\n",
       "      <td>0.0</td>\n",
       "      <td>0.0</td>\n",
       "      <td>2</td>\n",
       "    </tr>\n",
       "  </tbody>\n",
       "</table>\n",
       "</div>"
      ],
      "text/plain": [
       "      X      UX           UY      UZ      N    V    M  ID_ELEMENT\n",
       "0   0.0     0.0     0.000000     0.0 -100.0  0.0  0.0           2\n",
       "1   0.2 -1989.0 -1989.000000 -1989.0 -100.0  0.0  0.0           2\n",
       "2   0.4 -1989.0 -1989.000000 -1989.0 -100.0  0.0  0.0           2\n",
       "3   0.6 -1989.0 -1989.000000 -1989.0 -100.0  0.0  0.0           2\n",
       "4   0.8 -1989.0 -1989.000000 -1989.0 -100.0  0.0  0.0           2\n",
       "5   1.0 -1989.0 -1989.000000 -1989.0 -100.0  0.0  0.0           2\n",
       "6   1.2 -1989.0 -1989.000000 -1989.0 -100.0  0.0  0.0           2\n",
       "7   1.4 -1989.0 -1989.000000 -1989.0 -100.0  0.0  0.0           2\n",
       "8   1.6 -1989.0 -1989.000000 -1989.0 -100.0  0.0  0.0           2\n",
       "9   1.8 -1989.0 -1989.000000 -1989.0 -100.0  0.0  0.0           2\n",
       "10  2.0     0.0    -0.000123     0.0 -100.0  0.0  0.0           2"
      ]
     },
     "execution_count": 8,
     "metadata": {},
     "output_type": "execute_result"
    }
   ],
   "source": [
    "RESULTS_BAR_0 = pd.DataFrame(data=RESULTS[2])\n",
    "RESULTS_BAR_0.head(50)"
   ]
  },
  {
   "cell_type": "code",
   "execution_count": 5,
   "metadata": {},
   "outputs": [
    {
     "data": {
      "text/plain": [
       "X        0.4\n",
       "UX   -1989.0\n",
       "UY   -1989.0\n",
       "UZ   -1989.0\n",
       "N     -100.0\n",
       "Name: 2, dtype: float64"
      ]
     },
     "execution_count": 5,
     "metadata": {},
     "output_type": "execute_result"
    }
   ],
   "source": [
    "Δ = RESULTS_BAR_0.iloc[2]\n",
    "Δ.head()"
   ]
  },
  {
   "cell_type": "code",
   "execution_count": 12,
   "metadata": {},
   "outputs": [
    {
     "name": "stdout",
     "output_type": "stream",
     "text": [
      "0.4\n"
     ]
    }
   ],
   "source": [
    "print(Δ['X'])"
   ]
  },
  {
   "cell_type": "code",
   "execution_count": 11,
   "metadata": {},
   "outputs": [
    {
     "name": "stdout",
     "output_type": "stream",
     "text": [
      "56.25\n"
     ]
    }
   ],
   "source": [
    "print(450 / 8)"
   ]
  },
  {
   "cell_type": "code",
   "execution_count": null,
   "metadata": {},
   "outputs": [],
   "source": []
  }
 ],
 "metadata": {
  "kernelspec": {
   "display_name": "Python 3",
   "language": "python",
   "name": "python3"
  },
  "language_info": {
   "codemirror_mode": {
    "name": "ipython",
    "version": 3
   },
   "file_extension": ".py",
   "mimetype": "text/x-python",
   "name": "python",
   "nbconvert_exporter": "python",
   "pygments_lexer": "ipython3",
   "version": "3.7.6"
  }
 },
 "nbformat": 4,
 "nbformat_minor": 4
}
