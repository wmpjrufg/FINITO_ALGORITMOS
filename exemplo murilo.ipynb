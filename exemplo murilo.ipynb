{
 "cells": [
  {
   "cell_type": "code",
   "execution_count": 1,
   "metadata": {},
   "outputs": [],
   "source": [
    "import FINITO_TOOLBOX"
   ]
  },
  {
   "cell_type": "code",
   "execution_count": 2,
   "metadata": {},
   "outputs": [],
   "source": [
    "from FINITO_TOOLBOX import MEF2D"
   ]
  },
  {
   "cell_type": "code",
   "execution_count": 5,
   "metadata": {},
   "outputs": [
    {
     "ename": "FileNotFoundError",
     "evalue": "[Errno 2] No such file or directory: '/FINITO_TOOLBOX/entrada_testeEP2.txt'",
     "output_type": "error",
     "traceback": [
      "\u001b[1;31m---------------------------------------------------------------------------\u001b[0m",
      "\u001b[1;31mFileNotFoundError\u001b[0m                         Traceback (most recent call last)",
      "\u001b[1;32m<ipython-input-5-7761c89f9c02>\u001b[0m in \u001b[0;36m<module>\u001b[1;34m\u001b[0m\n\u001b[1;32m----> 1\u001b[1;33m \u001b[0mRESULTS\u001b[0m \u001b[1;33m=\u001b[0m \u001b[0mMEF2D\u001b[0m\u001b[1;33m(\u001b[0m\u001b[0mFILENAME\u001b[0m \u001b[1;33m=\u001b[0m \u001b[1;34m'/FINITO_TOOLBOX/entrada_testeEP2.txt'\u001b[0m\u001b[1;33m)\u001b[0m\u001b[1;33m\u001b[0m\u001b[1;33m\u001b[0m\u001b[0m\n\u001b[0m",
      "\u001b[1;32m~\\Documents\\GitHub\\FINITO-ALGORITMOS\\FINITO_TOOLBOX\\FINITO.py\u001b[0m in \u001b[0;36mMEF2D\u001b[1;34m(**kwargs)\u001b[0m\n\u001b[0;32m    169\u001b[0m     \u001b[0mDICTIONARY\u001b[0m \u001b[1;33m=\u001b[0m \u001b[0mkwargs\u001b[0m\u001b[1;33m.\u001b[0m\u001b[0mget\u001b[0m\u001b[1;33m(\u001b[0m\u001b[1;34m'DICTIONARY'\u001b[0m\u001b[1;33m)\u001b[0m\u001b[1;33m\u001b[0m\u001b[1;33m\u001b[0m\u001b[0m\n\u001b[0;32m    170\u001b[0m     \u001b[1;32mif\u001b[0m \u001b[0mFILENAME\u001b[0m\u001b[1;33m:\u001b[0m\u001b[1;33m\u001b[0m\u001b[1;33m\u001b[0m\u001b[0m\n\u001b[1;32m--> 171\u001b[1;33m         \u001b[1;33m[\u001b[0m\u001b[0mN_NODES\u001b[0m\u001b[1;33m,\u001b[0m \u001b[0mN_MATERIALS\u001b[0m\u001b[1;33m,\u001b[0m \u001b[0mN_THICKNESS\u001b[0m\u001b[1;33m,\u001b[0m \u001b[0mN_ELEMENTST3\u001b[0m\u001b[1;33m,\u001b[0m \u001b[0mN_ELEMENTST6\u001b[0m\u001b[1;33m,\u001b[0m \u001b[0mN_ELEMENTST10\u001b[0m\u001b[1;33m,\u001b[0m \u001b[0mN_FORCES\u001b[0m\u001b[1;33m,\u001b[0m \u001b[0mN_PRESSURES\u001b[0m\u001b[1;33m,\u001b[0m \u001b[0mN_DISPLACEMENTS\u001b[0m\u001b[1;33m,\u001b[0m \u001b[0mTYPE_PLANE\u001b[0m\u001b[1;33m,\u001b[0m \u001b[0mTYPE_ELEMENT\u001b[0m\u001b[1;33m,\u001b[0m \u001b[0mTYPE_SOLUTION\u001b[0m\u001b[1;33m,\u001b[0m \u001b[0mTYPE_INTEGRATION\u001b[0m\u001b[1;33m,\u001b[0m \u001b[0mCOORDINATES\u001b[0m\u001b[1;33m,\u001b[0m \u001b[0mMATERIALS\u001b[0m\u001b[1;33m,\u001b[0m \u001b[0mTHICKNESS\u001b[0m\u001b[1;33m,\u001b[0m \u001b[0mELEMENTS\u001b[0m\u001b[1;33m,\u001b[0m \u001b[0mNODAL_EXTERNAL_LOAD\u001b[0m\u001b[1;33m,\u001b[0m \u001b[0mPRESCRIPTIONS\u001b[0m\u001b[1;33m]\u001b[0m \u001b[1;33m=\u001b[0m \u001b[0mFINITO_CL\u001b[0m\u001b[1;33m.\u001b[0m\u001b[0mGET_VALUE_FROM_TXT_MEF2D_FINITO\u001b[0m\u001b[1;33m(\u001b[0m\u001b[0mFILENAME\u001b[0m\u001b[1;33m)\u001b[0m\u001b[1;33m\u001b[0m\u001b[1;33m\u001b[0m\u001b[0m\n\u001b[0m\u001b[0;32m    172\u001b[0m     \u001b[1;32melse\u001b[0m\u001b[1;33m:\u001b[0m\u001b[1;33m\u001b[0m\u001b[1;33m\u001b[0m\u001b[0m\n\u001b[0;32m    173\u001b[0m         \u001b[1;32mpass\u001b[0m\u001b[1;33m\u001b[0m\u001b[1;33m\u001b[0m\u001b[0m\n",
      "\u001b[1;32m~\\Documents\\GitHub\\FINITO-ALGORITMOS\\FINITO_TOOLBOX\\FINITO_COMMON_LIBRARY.py\u001b[0m in \u001b[0;36mGET_VALUE_FROM_TXT_MEF2D_FINITO\u001b[1;34m(FILENAME)\u001b[0m\n\u001b[0;32m    226\u001b[0m     \"\"\"\n\u001b[0;32m    227\u001b[0m     \u001b[1;31m# Read input file general properties\u001b[0m\u001b[1;33m\u001b[0m\u001b[1;33m\u001b[0m\u001b[1;33m\u001b[0m\u001b[0m\n\u001b[1;32m--> 228\u001b[1;33m     \u001b[0mFILE\u001b[0m \u001b[1;33m=\u001b[0m \u001b[0mopen\u001b[0m\u001b[1;33m(\u001b[0m\u001b[0mFILENAME\u001b[0m\u001b[1;33m,\u001b[0m \u001b[1;34m\"r\"\u001b[0m\u001b[1;33m)\u001b[0m\u001b[1;33m\u001b[0m\u001b[1;33m\u001b[0m\u001b[0m\n\u001b[0m\u001b[0;32m    229\u001b[0m     \u001b[0mDATASET\u001b[0m \u001b[1;33m=\u001b[0m \u001b[0mFILE\u001b[0m\u001b[1;33m.\u001b[0m\u001b[0mread\u001b[0m\u001b[1;33m(\u001b[0m\u001b[1;33m)\u001b[0m\u001b[1;33m.\u001b[0m\u001b[0msplit\u001b[0m\u001b[1;33m(\u001b[0m\u001b[1;34m\"\\n\"\u001b[0m\u001b[1;33m)\u001b[0m\u001b[1;33m\u001b[0m\u001b[1;33m\u001b[0m\u001b[0m\n\u001b[0;32m    230\u001b[0m     \u001b[0mN_NODES\u001b[0m \u001b[1;33m=\u001b[0m \u001b[0mint\u001b[0m\u001b[1;33m(\u001b[0m\u001b[0mDATASET\u001b[0m\u001b[1;33m.\u001b[0m\u001b[0mpop\u001b[0m\u001b[1;33m(\u001b[0m\u001b[1;36m0\u001b[0m\u001b[1;33m)\u001b[0m\u001b[1;33m.\u001b[0m\u001b[0msplit\u001b[0m\u001b[1;33m(\u001b[0m\u001b[1;34m':'\u001b[0m\u001b[1;33m)\u001b[0m\u001b[1;33m[\u001b[0m\u001b[1;36m1\u001b[0m\u001b[1;33m]\u001b[0m\u001b[1;33m)\u001b[0m\u001b[1;33m\u001b[0m\u001b[1;33m\u001b[0m\u001b[0m\n",
      "\u001b[1;31mFileNotFoundError\u001b[0m: [Errno 2] No such file or directory: '/FINITO_TOOLBOX/entrada_testeEP2.txt'"
     ]
    }
   ],
   "source": [
    "RESULTS = MEF2D(FILENAME = '/FINITO_TOOLBOX/entrada_testeEP2.txt')"
   ]
  },
  {
   "cell_type": "code",
   "execution_count": null,
   "metadata": {},
   "outputs": [],
   "source": []
  }
 ],
 "metadata": {
  "kernelspec": {
   "display_name": "Python 3",
   "language": "python",
   "name": "python3"
  },
  "language_info": {
   "codemirror_mode": {
    "name": "ipython",
    "version": 3
   },
   "file_extension": ".py",
   "mimetype": "text/x-python",
   "name": "python",
   "nbconvert_exporter": "python",
   "pygments_lexer": "ipython3",
   "version": "3.8.3"
  }
 },
 "nbformat": 4,
 "nbformat_minor": 4
}
