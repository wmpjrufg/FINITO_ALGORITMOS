{
 "cells": [
  {
   "cell_type": "markdown",
   "metadata": {},
   "source": [
    "## 1.0 - Install and import library"
   ]
  },
  {
   "cell_type": "code",
   "execution_count": 1,
   "metadata": {},
   "outputs": [],
   "source": [
    "from FINITO_FEM_TOOLBOX import *"
   ]
  },
  {
   "cell_type": "markdown",
   "metadata": {},
   "source": [
    "## 2.0 - Run FINITO framework ```.txt``` file"
   ]
  },
  {
   "cell_type": "code",
   "execution_count": 2,
   "metadata": {},
   "outputs": [],
   "source": [
    "TRUSS_00_RESULTS = MEF1D(FILENAME = 'TRUSS_00.txt')"
   ]
  },
  {
   "cell_type": "markdown",
   "metadata": {},
   "source": [
    "View results about **0** element"
   ]
  },
  {
   "cell_type": "markdown",
   "metadata": {},
   "source": [
    "## 3.0 - View results in command line"
   ]
  },
  {
   "cell_type": "code",
   "execution_count": 8,
   "metadata": {},
   "outputs": [
    {
     "data": {
      "text/plain": [
       "{'X': array([0. , 0.2, 0.4, 0.6, 0.8, 1. , 1.2, 1.4, 1.6, 1.8, 2. ]),\n",
       " 'UX': array([ 1.04166667e-06, -1.98900000e+03, -1.98900000e+03, -1.98900000e+03,\n",
       "        -1.98900000e+03, -1.98900000e+03, -1.98900000e+03, -1.98900000e+03,\n",
       "        -1.98900000e+03, -1.98900000e+03,  1.83660450e-12]),\n",
       " 'UY': array([-3.01639467e-06, -1.98900000e+03, -1.98900000e+03, -1.98900000e+03,\n",
       "        -1.98900000e+03, -1.98900000e+03, -1.98900000e+03, -1.98900000e+03,\n",
       "        -1.98900000e+03, -1.98900000e+03,  1.06312942e-12]),\n",
       " 'UZ': array([-8.29342168e-19, -1.98900000e+03, -1.98900000e+03, -1.98900000e+03,\n",
       "        -1.98900000e+03, -1.98900000e+03, -1.98900000e+03, -1.98900000e+03,\n",
       "        -1.98900000e+03, -1.98900000e+03,  4.38916226e-20]),\n",
       " 'N': array([-4166.65932025, -4166.65932025, -4166.65932025, -4166.65932025,\n",
       "        -4166.65932025, -4166.65932025, -4166.65932025, -4166.65932025,\n",
       "        -4166.65932025, -4166.65932025, -4166.65932025]),\n",
       " 'V': array([0., 0., 0., 0., 0., 0., 0., 0., 0., 0., 0.]),\n",
       " 'M': array([0., 0., 0., 0., 0., 0., 0., 0., 0., 0., 0.]),\n",
       " 'ID_ELEMENT': 1}"
      ]
     },
     "execution_count": 8,
     "metadata": {},
     "output_type": "execute_result"
    }
   ],
   "source": [
    "TRUSS_00_BAR_0 = TRUSS_00_RESULTS[1] \n",
    "TRUSS_00_BAR_0"
   ]
  },
  {
   "cell_type": "markdown",
   "metadata": {},
   "source": [
    "### 3.1 - View ```axial``` internal load"
   ]
  },
  {
   "cell_type": "code",
   "execution_count": 4,
   "metadata": {},
   "outputs": [
    {
     "data": {
      "text/plain": [
       "array([4166.66666667, 4166.66666667, 4166.66666667, 4166.66666667,\n",
       "       4166.66666667, 4166.66666667, 4166.66666667, 4166.66666667,\n",
       "       4166.66666667, 4166.66666667, 4166.66666667])"
      ]
     },
     "execution_count": 4,
     "metadata": {},
     "output_type": "execute_result"
    }
   ],
   "source": [
    "TRUSS_00_BAR_0['N']"
   ]
  },
  {
   "cell_type": "markdown",
   "metadata": {},
   "source": [
    "- ```TRUSS_00_BAR_0['N'][0]``` - First DIV or 0 Node in 0 Element;\n",
    "- ```TRUSS_00_BAR_0['N'][10]``` - Last DIV or 1 Node in 0 Element."
   ]
  },
  {
   "cell_type": "markdown",
   "metadata": {},
   "source": [
    "### 3.1 - Interesting view ```axial``` internal load using ```pandas``` framework"
   ]
  },
  {
   "cell_type": "code",
   "execution_count": 5,
   "metadata": {},
   "outputs": [
    {
     "data": {
      "text/html": [
       "<div>\n",
       "<style scoped>\n",
       "    .dataframe tbody tr th:only-of-type {\n",
       "        vertical-align: middle;\n",
       "    }\n",
       "\n",
       "    .dataframe tbody tr th {\n",
       "        vertical-align: top;\n",
       "    }\n",
       "\n",
       "    .dataframe thead th {\n",
       "        text-align: right;\n",
       "    }\n",
       "</style>\n",
       "<table border=\"1\" class=\"dataframe\">\n",
       "  <thead>\n",
       "    <tr style=\"text-align: right;\">\n",
       "      <th></th>\n",
       "      <th>X</th>\n",
       "      <th>UX</th>\n",
       "      <th>UY</th>\n",
       "      <th>UZ</th>\n",
       "      <th>N</th>\n",
       "      <th>V</th>\n",
       "      <th>M</th>\n",
       "      <th>ID_ELEMENT</th>\n",
       "    </tr>\n",
       "  </thead>\n",
       "  <tbody>\n",
       "    <tr>\n",
       "      <th>0</th>\n",
       "      <td>0.0</td>\n",
       "      <td>0.000000</td>\n",
       "      <td>0.000000</td>\n",
       "      <td>0.000000e+00</td>\n",
       "      <td>4166.666667</td>\n",
       "      <td>0.0</td>\n",
       "      <td>0.0</td>\n",
       "      <td>0</td>\n",
       "    </tr>\n",
       "    <tr>\n",
       "      <th>1</th>\n",
       "      <td>0.2</td>\n",
       "      <td>-1989.000000</td>\n",
       "      <td>-1989.000000</td>\n",
       "      <td>-1.989000e+03</td>\n",
       "      <td>4166.666667</td>\n",
       "      <td>0.0</td>\n",
       "      <td>0.0</td>\n",
       "      <td>0</td>\n",
       "    </tr>\n",
       "    <tr>\n",
       "      <th>2</th>\n",
       "      <td>0.4</td>\n",
       "      <td>-1989.000000</td>\n",
       "      <td>-1989.000000</td>\n",
       "      <td>-1.989000e+03</td>\n",
       "      <td>4166.666667</td>\n",
       "      <td>0.0</td>\n",
       "      <td>0.0</td>\n",
       "      <td>0</td>\n",
       "    </tr>\n",
       "    <tr>\n",
       "      <th>3</th>\n",
       "      <td>0.6</td>\n",
       "      <td>-1989.000000</td>\n",
       "      <td>-1989.000000</td>\n",
       "      <td>-1.989000e+03</td>\n",
       "      <td>4166.666667</td>\n",
       "      <td>0.0</td>\n",
       "      <td>0.0</td>\n",
       "      <td>0</td>\n",
       "    </tr>\n",
       "    <tr>\n",
       "      <th>4</th>\n",
       "      <td>0.8</td>\n",
       "      <td>-1989.000000</td>\n",
       "      <td>-1989.000000</td>\n",
       "      <td>-1.989000e+03</td>\n",
       "      <td>4166.666667</td>\n",
       "      <td>0.0</td>\n",
       "      <td>0.0</td>\n",
       "      <td>0</td>\n",
       "    </tr>\n",
       "    <tr>\n",
       "      <th>5</th>\n",
       "      <td>1.0</td>\n",
       "      <td>-1989.000000</td>\n",
       "      <td>-1989.000000</td>\n",
       "      <td>-1.989000e+03</td>\n",
       "      <td>4166.666667</td>\n",
       "      <td>0.0</td>\n",
       "      <td>0.0</td>\n",
       "      <td>0</td>\n",
       "    </tr>\n",
       "    <tr>\n",
       "      <th>6</th>\n",
       "      <td>1.2</td>\n",
       "      <td>-1989.000000</td>\n",
       "      <td>-1989.000000</td>\n",
       "      <td>-1.989000e+03</td>\n",
       "      <td>4166.666667</td>\n",
       "      <td>0.0</td>\n",
       "      <td>0.0</td>\n",
       "      <td>0</td>\n",
       "    </tr>\n",
       "    <tr>\n",
       "      <th>7</th>\n",
       "      <td>1.4</td>\n",
       "      <td>-1989.000000</td>\n",
       "      <td>-1989.000000</td>\n",
       "      <td>-1.989000e+03</td>\n",
       "      <td>4166.666667</td>\n",
       "      <td>0.0</td>\n",
       "      <td>0.0</td>\n",
       "      <td>0</td>\n",
       "    </tr>\n",
       "    <tr>\n",
       "      <th>8</th>\n",
       "      <td>1.6</td>\n",
       "      <td>-1989.000000</td>\n",
       "      <td>-1989.000000</td>\n",
       "      <td>-1.989000e+03</td>\n",
       "      <td>4166.666667</td>\n",
       "      <td>0.0</td>\n",
       "      <td>0.0</td>\n",
       "      <td>0</td>\n",
       "    </tr>\n",
       "    <tr>\n",
       "      <th>9</th>\n",
       "      <td>1.8</td>\n",
       "      <td>-1989.000000</td>\n",
       "      <td>-1989.000000</td>\n",
       "      <td>-1.989000e+03</td>\n",
       "      <td>4166.666667</td>\n",
       "      <td>0.0</td>\n",
       "      <td>0.0</td>\n",
       "      <td>0</td>\n",
       "    </tr>\n",
       "    <tr>\n",
       "      <th>10</th>\n",
       "      <td>2.0</td>\n",
       "      <td>0.000001</td>\n",
       "      <td>-0.000003</td>\n",
       "      <td>-8.293422e-19</td>\n",
       "      <td>4166.666667</td>\n",
       "      <td>0.0</td>\n",
       "      <td>0.0</td>\n",
       "      <td>0</td>\n",
       "    </tr>\n",
       "  </tbody>\n",
       "</table>\n",
       "</div>"
      ],
      "text/plain": [
       "      X           UX           UY            UZ            N    V    M  \\\n",
       "0   0.0     0.000000     0.000000  0.000000e+00  4166.666667  0.0  0.0   \n",
       "1   0.2 -1989.000000 -1989.000000 -1.989000e+03  4166.666667  0.0  0.0   \n",
       "2   0.4 -1989.000000 -1989.000000 -1.989000e+03  4166.666667  0.0  0.0   \n",
       "3   0.6 -1989.000000 -1989.000000 -1.989000e+03  4166.666667  0.0  0.0   \n",
       "4   0.8 -1989.000000 -1989.000000 -1.989000e+03  4166.666667  0.0  0.0   \n",
       "5   1.0 -1989.000000 -1989.000000 -1.989000e+03  4166.666667  0.0  0.0   \n",
       "6   1.2 -1989.000000 -1989.000000 -1.989000e+03  4166.666667  0.0  0.0   \n",
       "7   1.4 -1989.000000 -1989.000000 -1.989000e+03  4166.666667  0.0  0.0   \n",
       "8   1.6 -1989.000000 -1989.000000 -1.989000e+03  4166.666667  0.0  0.0   \n",
       "9   1.8 -1989.000000 -1989.000000 -1.989000e+03  4166.666667  0.0  0.0   \n",
       "10  2.0     0.000001    -0.000003 -8.293422e-19  4166.666667  0.0  0.0   \n",
       "\n",
       "    ID_ELEMENT  \n",
       "0            0  \n",
       "1            0  \n",
       "2            0  \n",
       "3            0  \n",
       "4            0  \n",
       "5            0  \n",
       "6            0  \n",
       "7            0  \n",
       "8            0  \n",
       "9            0  \n",
       "10           0  "
      ]
     },
     "execution_count": 5,
     "metadata": {},
     "output_type": "execute_result"
    }
   ],
   "source": [
    "import pandas as pd\n",
    "TRUSS_00_BAR_0 = pd.DataFrame(data = TRUSS_00_BAR_0)\n",
    "TRUSS_00_BAR_0.head(50)"
   ]
  },
  {
   "cell_type": "markdown",
   "metadata": {},
   "source": [
    "Using ```.loc``` to view results in third (ID = 2) DIV."
   ]
  },
  {
   "cell_type": "code",
   "execution_count": 6,
   "metadata": {},
   "outputs": [
    {
     "data": {
      "text/plain": [
       "X                0.400000\n",
       "UX           -1989.000000\n",
       "UY           -1989.000000\n",
       "UZ           -1989.000000\n",
       "N             4166.666667\n",
       "V                0.000000\n",
       "M                0.000000\n",
       "ID_ELEMENT       0.000000\n",
       "Name: 2, dtype: float64"
      ]
     },
     "execution_count": 6,
     "metadata": {},
     "output_type": "execute_result"
    }
   ],
   "source": [
    "TEST = TRUSS_00_BAR_0.loc[2]\n",
    "TEST"
   ]
  },
  {
   "cell_type": "markdown",
   "metadata": {},
   "source": [
    "View ```axial``` internal load in third (ID = 2) DIV"
   ]
  },
  {
   "cell_type": "code",
   "execution_count": 7,
   "metadata": {},
   "outputs": [
    {
     "data": {
      "text/plain": [
       "4166.666666666673"
      ]
     },
     "execution_count": 7,
     "metadata": {},
     "output_type": "execute_result"
    }
   ],
   "source": [
    "TEST[4]"
   ]
  },
  {
   "cell_type": "code",
   "execution_count": null,
   "metadata": {},
   "outputs": [],
   "source": []
  }
 ],
 "metadata": {
  "kernelspec": {
   "display_name": "Python 3",
   "language": "python",
   "name": "python3"
  },
  "language_info": {
   "codemirror_mode": {
    "name": "ipython",
    "version": 3
   },
   "file_extension": ".py",
   "mimetype": "text/x-python",
   "name": "python",
   "nbconvert_exporter": "python",
   "pygments_lexer": "ipython3",
   "version": "3.7.6"
  }
 },
 "nbformat": 4,
 "nbformat_minor": 4
}
