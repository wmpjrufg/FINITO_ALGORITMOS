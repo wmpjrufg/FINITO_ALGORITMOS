{
 "cells": [
  {
   "cell_type": "code",
   "execution_count": 1,
   "metadata": {},
   "outputs": [
    {
     "ename": "SyntaxError",
     "evalue": "invalid syntax (FINITO.py, line 21)",
     "output_type": "error",
     "traceback": [
      "Traceback \u001b[1;36m(most recent call last)\u001b[0m:\n",
      "  File \u001b[0;32m\"C:\\Users\\Wanderlei\\anaconda3\\lib\\site-packages\\IPython\\core\\interactiveshell.py\"\u001b[0m, line \u001b[0;32m3331\u001b[0m, in \u001b[0;35mrun_code\u001b[0m\n    exec(code_obj, self.user_global_ns, self.user_ns)\n",
      "\u001b[1;36m  File \u001b[1;32m\"<ipython-input-1-bc3fdf5efe56>\"\u001b[1;36m, line \u001b[1;32m3\u001b[1;36m, in \u001b[1;35m<module>\u001b[1;36m\u001b[0m\n\u001b[1;33m    import FINITO\u001b[0m\n",
      "\u001b[1;36m  File \u001b[1;32m\"C:\\Users\\Wanderlei\\Documents\\GitHub\\FINITO-ALGORITMOS\\FINITO_FOLDER\\FINITO.py\"\u001b[1;36m, line \u001b[1;32m21\u001b[0m\n\u001b[1;33m    import .FINITO_COMOM_LIBRARY as FINITO_CL\u001b[0m\n\u001b[1;37m           ^\u001b[0m\n\u001b[1;31mSyntaxError\u001b[0m\u001b[1;31m:\u001b[0m invalid syntax\n"
     ]
    }
   ],
   "source": [
    "import numpy as np\n",
    "import pandas as pd\n",
    "import FINITO\n",
    "from FINITO import MEF1D"
   ]
  },
  {
   "cell_type": "code",
   "execution_count": null,
   "metadata": {},
   "outputs": [],
   "source": [
    "TRUSS_01 = {\n",
    "  \"TYPE_ELEMENT\": 0,\n",
    "  \"TYPE_SOLUTION\": 0,\n",
    "  \"N_NODES\": 3,\n",
    "  \"N_MATERIALS\": 3,\n",
    "  \"N_SECTIONS\": 3,\n",
    "  \"N_ELEMENTS\": 3,\n",
    "  \"N_DISPLACEMENTS\": 3,\n",
    "  \"N_ELEMENTSLOADED\": 0,\n",
    "  \"N_NODESLOADED\": 1,\n",
    "  \"N_SPRINGS\": 0,\n",
    "  \"COORDINATES\": \n",
    "  np.array([[0.0, 0.0],\n",
    "    [2.0, 0.0],\n",
    "    [0.0, 2.0]]),\n",
    "  \"ELEMENTS\": \n",
    "  np.array([[0, 1, 0, 0, 1, 1],\n",
    "    [1, 2, 1, 1, 1, 1],\n",
    "    [0, 2, 2, 2, 1, 1]]),\n",
    "  \"MATERIALS\": \n",
    "  np.array([[2.050E8,0.3,78600,0.000012],\n",
    "    [2.050E8,0.3,78600,0.000012],\n",
    "    [2.050E8,0.3,78600,0.000012]]),\n",
    "  \"SECTIONS\": \n",
    "  np.array([[0.0079,0.000005,0.000005,0.05,0.05],\n",
    "    [0.0079,0.000005,0.000005,0.05,0.05],\n",
    "    [0.0079,0.000005,0.000005,0.05,0.05]]),\n",
    "  \"PRESCRIBED DISPLACEMENTS\": \n",
    "  np.array([[0,0,0],\n",
    "    [0,1,0],\n",
    "    [2,0,0]]),\n",
    "  \"ELEMENT LOADS\": None,\n",
    "  \"NODAL LOADS\": \n",
    "  np.array([[1,1,-100]]),\n",
    "  \"SPRINGS\": None}"
   ]
  },
  {
   "cell_type": "code",
   "execution_count": null,
   "metadata": {},
   "outputs": [],
   "source": [
    "RESULTS = MEF1D(DICTIONARY = TRUSS_01)"
   ]
  },
  {
   "cell_type": "code",
   "execution_count": null,
   "metadata": {},
   "outputs": [],
   "source": [
    "RESULTS_BAR_0 = pd.DataFrame(data=RESULTS[2])\n",
    "RESULTS_BAR_0.head(50)"
   ]
  },
  {
   "cell_type": "code",
   "execution_count": null,
   "metadata": {},
   "outputs": [],
   "source": [
    "Δ = RESULTS_BAR_0.iloc[2]\n",
    "Δ.head()"
   ]
  },
  {
   "cell_type": "code",
   "execution_count": null,
   "metadata": {},
   "outputs": [],
   "source": [
    "print(Δ['X'])"
   ]
  },
  {
   "cell_type": "code",
   "execution_count": null,
   "metadata": {},
   "outputs": [],
   "source": [
    "print(450 / 8)"
   ]
  },
  {
   "cell_type": "code",
   "execution_count": null,
   "metadata": {},
   "outputs": [],
   "source": []
  }
 ],
 "metadata": {
  "kernelspec": {
   "display_name": "Python 3",
   "language": "python",
   "name": "python3"
  },
  "language_info": {
   "codemirror_mode": {
    "name": "ipython",
    "version": 3
   },
   "file_extension": ".py",
   "mimetype": "text/x-python",
   "name": "python",
   "nbconvert_exporter": "python",
   "pygments_lexer": "ipython3",
   "version": "3.7.6"
  }
 },
 "nbformat": 4,
 "nbformat_minor": 4
}
