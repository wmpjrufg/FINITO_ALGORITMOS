{
 "cells": [
  {
   "cell_type": "markdown",
   "metadata": {},
   "source": [
    "## 1.0 - Install and import library"
   ]
  },
  {
   "cell_type": "code",
   "execution_count": 1,
   "metadata": {},
   "outputs": [
    {
     "name": "stdout",
     "output_type": "stream",
     "text": [
      "Looking in indexes: https://test.pypi.org/simple/\n",
      "Requirement already satisfied: FINITO-FEM-TOOLBOX in c:\\programdata\\anaconda3\\lib\\site-packages (0.0.0)\n"
     ]
    }
   ],
   "source": [
    "!pip install -i https://test.pypi.org/simple/ FINITO-FEM-TOOLBOX\n",
    "from FINITO_FEM_TOOLBOX import *"
   ]
  },
  {
   "cell_type": "markdown",
   "metadata": {},
   "source": [
    "## 2.0 - Run FINITO framework ```.txt``` file"
   ]
  },
  {
   "cell_type": "code",
   "execution_count": 2,
   "metadata": {},
   "outputs": [],
   "source": [
    "TRUSS_00_RESULTS = MEF1D(FILENAME = 'FRAME_00.txt')"
   ]
  },
  {
   "cell_type": "markdown",
   "metadata": {},
   "source": [
    "## 3.0 - View results in command line"
   ]
  },
  {
   "cell_type": "markdown",
   "metadata": {},
   "source": [
    "View results about **0** element"
   ]
  },
  {
   "cell_type": "code",
   "execution_count": 3,
   "metadata": {},
   "outputs": [
    {
     "name": "stdout",
     "output_type": "stream",
     "text": [
      "{'X': array([0. , 0.3, 0.6, 0.9, 1.2, 1.5, 1.8, 2.1, 2.4, 2.7, 3. ]), 'UX': array([ 0.00000000e+00, -1.98900000e+03, -1.98900000e+03, -1.98900000e+03,\n",
      "       -1.98900000e+03, -1.98900000e+03, -1.98900000e+03, -1.98900000e+03,\n",
      "       -1.98900000e+03, -1.98900000e+03, -4.13276578e-04]), 'UY': array([ 0.00000000e+00, -1.98900000e+03, -1.98900000e+03, -1.98900000e+03,\n",
      "       -1.98900000e+03, -1.98900000e+03, -1.98900000e+03, -1.98900000e+03,\n",
      "       -1.98900000e+03, -1.98900000e+03, -3.79474256e-06]), 'UZ': array([ 0.00000000e+00, -1.98900000e+03, -1.98900000e+03, -1.98900000e+03,\n",
      "       -1.98900000e+03, -1.98900000e+03, -1.98900000e+03, -1.98900000e+03,\n",
      "       -1.98900000e+03, -1.98900000e+03, -5.09970499e-19]), 'N': array([-2428.63523779, -2428.63523779, -2428.63523779, -2428.63523779,\n",
      "       -2428.63523779, -2428.63523779, -2428.63523779, -2428.63523779,\n",
      "       -2428.63523779, -2428.63523779, -2428.63523779]), 'V': array([-1175.90962256, -1175.90962256, -1175.90962256, -1175.90962256,\n",
      "       -1175.90962256, -1175.90962256, -1175.90962256, -1175.90962256,\n",
      "       -1175.90962256, -1175.90962256, -1175.90962256]), 'M': array([ 3.52772887e+03,  3.17495598e+03,  2.82218309e+03,  2.46941021e+03,\n",
      "        2.11663732e+03,  1.76386443e+03,  1.41109155e+03,  1.05831866e+03,\n",
      "        7.05545774e+02,  3.52772887e+02, -4.54747351e-13]), 'ID_ELEMENT': 0}\n"
     ]
    }
   ],
   "source": [
    "TRUSS_00_BAR_0 = TRUSS_00_RESULTS[0] \n",
    "print(TRUSS_00_BAR_0)"
   ]
  },
  {
   "cell_type": "markdown",
   "metadata": {},
   "source": [
    "### 3.1 - View ```axial``` internal load"
   ]
  },
  {
   "cell_type": "code",
   "execution_count": 4,
   "metadata": {},
   "outputs": [
    {
     "data": {
      "text/plain": [
       "array([-2428.63523779, -2428.63523779, -2428.63523779, -2428.63523779,\n",
       "       -2428.63523779, -2428.63523779, -2428.63523779, -2428.63523779,\n",
       "       -2428.63523779, -2428.63523779, -2428.63523779])"
      ]
     },
     "execution_count": 4,
     "metadata": {},
     "output_type": "execute_result"
    }
   ],
   "source": [
    "TRUSS_00_BAR_0['N']"
   ]
  },
  {
   "cell_type": "markdown",
   "metadata": {},
   "source": [
    "- ```TRUSS_00_BAR_0['N'][0]``` - First DIV or 0 Node in 0 Element;\n",
    "- ```TRUSS_00_BAR_0['N'][10]``` - Last DIV or 1 Node in 0 Element."
   ]
  },
  {
   "cell_type": "markdown",
   "metadata": {},
   "source": [
    "### 3.1 - Interesting view ```axial``` internal load using ```pandas``` framework"
   ]
  },
  {
   "cell_type": "code",
   "execution_count": 5,
   "metadata": {},
   "outputs": [
    {
     "data": {
      "text/html": [
       "<div>\n",
       "<style scoped>\n",
       "    .dataframe tbody tr th:only-of-type {\n",
       "        vertical-align: middle;\n",
       "    }\n",
       "\n",
       "    .dataframe tbody tr th {\n",
       "        vertical-align: top;\n",
       "    }\n",
       "\n",
       "    .dataframe thead th {\n",
       "        text-align: right;\n",
       "    }\n",
       "</style>\n",
       "<table border=\"1\" class=\"dataframe\">\n",
       "  <thead>\n",
       "    <tr style=\"text-align: right;\">\n",
       "      <th></th>\n",
       "      <th>X</th>\n",
       "      <th>UX</th>\n",
       "      <th>UY</th>\n",
       "      <th>UZ</th>\n",
       "      <th>N</th>\n",
       "      <th>V</th>\n",
       "      <th>M</th>\n",
       "      <th>ID_ELEMENT</th>\n",
       "    </tr>\n",
       "  </thead>\n",
       "  <tbody>\n",
       "    <tr>\n",
       "      <th>0</th>\n",
       "      <td>0.0</td>\n",
       "      <td>0.000000</td>\n",
       "      <td>0.000000</td>\n",
       "      <td>0.000000e+00</td>\n",
       "      <td>-2428.635238</td>\n",
       "      <td>-1175.909623</td>\n",
       "      <td>3.527729e+03</td>\n",
       "      <td>0</td>\n",
       "    </tr>\n",
       "    <tr>\n",
       "      <th>1</th>\n",
       "      <td>0.3</td>\n",
       "      <td>-1989.000000</td>\n",
       "      <td>-1989.000000</td>\n",
       "      <td>-1.989000e+03</td>\n",
       "      <td>-2428.635238</td>\n",
       "      <td>-1175.909623</td>\n",
       "      <td>3.174956e+03</td>\n",
       "      <td>0</td>\n",
       "    </tr>\n",
       "    <tr>\n",
       "      <th>2</th>\n",
       "      <td>0.6</td>\n",
       "      <td>-1989.000000</td>\n",
       "      <td>-1989.000000</td>\n",
       "      <td>-1.989000e+03</td>\n",
       "      <td>-2428.635238</td>\n",
       "      <td>-1175.909623</td>\n",
       "      <td>2.822183e+03</td>\n",
       "      <td>0</td>\n",
       "    </tr>\n",
       "    <tr>\n",
       "      <th>3</th>\n",
       "      <td>0.9</td>\n",
       "      <td>-1989.000000</td>\n",
       "      <td>-1989.000000</td>\n",
       "      <td>-1.989000e+03</td>\n",
       "      <td>-2428.635238</td>\n",
       "      <td>-1175.909623</td>\n",
       "      <td>2.469410e+03</td>\n",
       "      <td>0</td>\n",
       "    </tr>\n",
       "    <tr>\n",
       "      <th>4</th>\n",
       "      <td>1.2</td>\n",
       "      <td>-1989.000000</td>\n",
       "      <td>-1989.000000</td>\n",
       "      <td>-1.989000e+03</td>\n",
       "      <td>-2428.635238</td>\n",
       "      <td>-1175.909623</td>\n",
       "      <td>2.116637e+03</td>\n",
       "      <td>0</td>\n",
       "    </tr>\n",
       "    <tr>\n",
       "      <th>5</th>\n",
       "      <td>1.5</td>\n",
       "      <td>-1989.000000</td>\n",
       "      <td>-1989.000000</td>\n",
       "      <td>-1.989000e+03</td>\n",
       "      <td>-2428.635238</td>\n",
       "      <td>-1175.909623</td>\n",
       "      <td>1.763864e+03</td>\n",
       "      <td>0</td>\n",
       "    </tr>\n",
       "    <tr>\n",
       "      <th>6</th>\n",
       "      <td>1.8</td>\n",
       "      <td>-1989.000000</td>\n",
       "      <td>-1989.000000</td>\n",
       "      <td>-1.989000e+03</td>\n",
       "      <td>-2428.635238</td>\n",
       "      <td>-1175.909623</td>\n",
       "      <td>1.411092e+03</td>\n",
       "      <td>0</td>\n",
       "    </tr>\n",
       "    <tr>\n",
       "      <th>7</th>\n",
       "      <td>2.1</td>\n",
       "      <td>-1989.000000</td>\n",
       "      <td>-1989.000000</td>\n",
       "      <td>-1.989000e+03</td>\n",
       "      <td>-2428.635238</td>\n",
       "      <td>-1175.909623</td>\n",
       "      <td>1.058319e+03</td>\n",
       "      <td>0</td>\n",
       "    </tr>\n",
       "    <tr>\n",
       "      <th>8</th>\n",
       "      <td>2.4</td>\n",
       "      <td>-1989.000000</td>\n",
       "      <td>-1989.000000</td>\n",
       "      <td>-1.989000e+03</td>\n",
       "      <td>-2428.635238</td>\n",
       "      <td>-1175.909623</td>\n",
       "      <td>7.055458e+02</td>\n",
       "      <td>0</td>\n",
       "    </tr>\n",
       "    <tr>\n",
       "      <th>9</th>\n",
       "      <td>2.7</td>\n",
       "      <td>-1989.000000</td>\n",
       "      <td>-1989.000000</td>\n",
       "      <td>-1.989000e+03</td>\n",
       "      <td>-2428.635238</td>\n",
       "      <td>-1175.909623</td>\n",
       "      <td>3.527729e+02</td>\n",
       "      <td>0</td>\n",
       "    </tr>\n",
       "    <tr>\n",
       "      <th>10</th>\n",
       "      <td>3.0</td>\n",
       "      <td>-0.000413</td>\n",
       "      <td>-0.000004</td>\n",
       "      <td>-5.099705e-19</td>\n",
       "      <td>-2428.635238</td>\n",
       "      <td>-1175.909623</td>\n",
       "      <td>-4.547474e-13</td>\n",
       "      <td>0</td>\n",
       "    </tr>\n",
       "  </tbody>\n",
       "</table>\n",
       "</div>"
      ],
      "text/plain": [
       "      X           UX           UY            UZ            N            V  \\\n",
       "0   0.0     0.000000     0.000000  0.000000e+00 -2428.635238 -1175.909623   \n",
       "1   0.3 -1989.000000 -1989.000000 -1.989000e+03 -2428.635238 -1175.909623   \n",
       "2   0.6 -1989.000000 -1989.000000 -1.989000e+03 -2428.635238 -1175.909623   \n",
       "3   0.9 -1989.000000 -1989.000000 -1.989000e+03 -2428.635238 -1175.909623   \n",
       "4   1.2 -1989.000000 -1989.000000 -1.989000e+03 -2428.635238 -1175.909623   \n",
       "5   1.5 -1989.000000 -1989.000000 -1.989000e+03 -2428.635238 -1175.909623   \n",
       "6   1.8 -1989.000000 -1989.000000 -1.989000e+03 -2428.635238 -1175.909623   \n",
       "7   2.1 -1989.000000 -1989.000000 -1.989000e+03 -2428.635238 -1175.909623   \n",
       "8   2.4 -1989.000000 -1989.000000 -1.989000e+03 -2428.635238 -1175.909623   \n",
       "9   2.7 -1989.000000 -1989.000000 -1.989000e+03 -2428.635238 -1175.909623   \n",
       "10  3.0    -0.000413    -0.000004 -5.099705e-19 -2428.635238 -1175.909623   \n",
       "\n",
       "               M  ID_ELEMENT  \n",
       "0   3.527729e+03           0  \n",
       "1   3.174956e+03           0  \n",
       "2   2.822183e+03           0  \n",
       "3   2.469410e+03           0  \n",
       "4   2.116637e+03           0  \n",
       "5   1.763864e+03           0  \n",
       "6   1.411092e+03           0  \n",
       "7   1.058319e+03           0  \n",
       "8   7.055458e+02           0  \n",
       "9   3.527729e+02           0  \n",
       "10 -4.547474e-13           0  "
      ]
     },
     "execution_count": 5,
     "metadata": {},
     "output_type": "execute_result"
    }
   ],
   "source": [
    "import pandas as pd\n",
    "TRUSS_00_BAR_0 = pd.DataFrame(data = TRUSS_00_BAR_0)\n",
    "TRUSS_00_BAR_0.head(50)"
   ]
  },
  {
   "cell_type": "markdown",
   "metadata": {},
   "source": [
    "Using ```.loc``` to view results in third DIV (ID = 2)."
   ]
  },
  {
   "cell_type": "code",
   "execution_count": 6,
   "metadata": {},
   "outputs": [
    {
     "data": {
      "text/plain": [
       "X                0.600000\n",
       "UX           -1989.000000\n",
       "UY           -1989.000000\n",
       "UZ           -1989.000000\n",
       "N            -2428.635238\n",
       "V            -1175.909623\n",
       "M             2822.183094\n",
       "ID_ELEMENT       0.000000\n",
       "Name: 2, dtype: float64"
      ]
     },
     "execution_count": 6,
     "metadata": {},
     "output_type": "execute_result"
    }
   ],
   "source": [
    "TEST = TRUSS_00_BAR_0.loc[2]\n",
    "TEST"
   ]
  },
  {
   "cell_type": "markdown",
   "metadata": {},
   "source": [
    "View ```axial``` internal load in third (ID = 2) DIV"
   ]
  },
  {
   "cell_type": "code",
   "execution_count": 7,
   "metadata": {},
   "outputs": [
    {
     "data": {
      "text/plain": [
       "-2428.635237794281"
      ]
     },
     "execution_count": 7,
     "metadata": {},
     "output_type": "execute_result"
    }
   ],
   "source": [
    "TEST[4]"
   ]
  }
 ],
 "metadata": {
  "kernelspec": {
   "display_name": "Python 3",
   "language": "python",
   "name": "python3"
  },
  "language_info": {
   "codemirror_mode": {
    "name": "ipython",
    "version": 3
   },
   "file_extension": ".py",
   "mimetype": "text/x-python",
   "name": "python",
   "nbconvert_exporter": "python",
   "pygments_lexer": "ipython3",
   "version": "3.8.3"
  }
 },
 "nbformat": 4,
 "nbformat_minor": 4
}
